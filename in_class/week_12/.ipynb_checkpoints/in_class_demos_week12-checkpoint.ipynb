{
 "cells": [
  {
   "cell_type": "code",
   "execution_count": 75,
   "metadata": {},
   "outputs": [
    {
     "name": "stdout",
     "output_type": "stream",
     "text": [
      "count    98.000000\n",
      "mean      9.142857\n",
      "std       6.598969\n",
      "min       0.000000\n",
      "25%       2.000000\n",
      "50%      10.000000\n",
      "75%      14.000000\n",
      "max      23.000000\n",
      "Name: Hour of Day, dtype: float64\n"
     ]
    },
    {
     "data": {
      "text/plain": [
       "'\\nFor every row in crashes data set, lambda is applied to each\\nrow in the dataframe.\\nCompare it to the Boolean value (<25),\\nLoc compares it to the Boolean (T/F) and only returns \\nthe true outcomes to include in output dataframe\\n'"
      ]
     },
     "execution_count": 75,
     "metadata": {},
     "output_type": "execute_result"
    },
    {
     "data": {
      "image/png": "[encoded data removed]",
      "text/plain": [
       "<Figure size 432x288 with 1 Axes>"
      ]
     },
     "metadata": {
      "needs_background": "light"
     },
     "output_type": "display_data"
    }
   ],
   "source": [
    "\"\"\"\n",
    "What's this? \n",
    "\n",
    "In-class demo for week twelve in ATE-252\n",
    "using the 'lite' crash data set\n",
    "\"\"\"\n",
    "\n",
    "\n",
    "import matplotlib.pyplot as plt\n",
    "import numpy as no\n",
    "import pandas as pd\n",
    "%matplotlib inline\n",
    "\n",
    "## Read in the whole csv as the pandas dataframe\n",
    "crashes = pd.read_csv('crashtest_lite.csv')\n",
    "\n",
    "## Check the columns data types\n",
    "#print(crashes.dtypes)\n",
    "\n",
    "## Extract the hour of the day (24 hour clock)\n",
    "## store in its own dataframe with only HoD\n",
    "time_of_day = crashes['Hour of Day']\n",
    "#print(time_of_day)\n",
    "\n",
    "## Pandas has built in visualization functions\n",
    "## in this case we are using a histogram to\n",
    "## graph the hours, choosing 24 hours since\n",
    "## there are 24 hours located\n",
    "#time_of_day.hist(bins=24)\n",
    "#print(time_of_day.describe())\n",
    "\n",
    "## Notice that there is an outlier (99)\n",
    "## Let's slice this out since it's skewing\n",
    "## our graph. For this we'll use loc() on the\n",
    "## SERIES object\n",
    "\n",
    "## intitiate a new variable\n",
    "## Go through all the rows of crashes\n",
    "## take the existing dataframe, select only\n",
    "## real hourss (< 25)\n",
    "## initiate a new dataframe with clean times\n",
    "clean_crashes = crashes.loc[lambda crashes: crashes['Hour of Day']<25]\n",
    "print(clean_crashes['Hour of Day'].describe())\n",
    "clean_crashes['Hour of Day'].hist(bins=24)\n",
    "\n",
    "\"\"\"\n",
    "For every row in crashes data set, lambda is applied to each\n",
    "row in the dataframe.\n",
    "Compare it to the Boolean value (<25),\n",
    "Loc compares it to the Boolean (T/F) and only returns \n",
    "the true outcomes to include in output dataframe\n",
    "\"\"\"\n"
   ]
  },
  {
   "cell_type": "code",
   "execution_count": 143,
   "metadata": {},
   "outputs": [
    {
     "name": "stdout",
     "output_type": "stream",
     "text": [
      "     43\n",
      "1    29\n",
      "2    19\n",
      "3     8\n",
      "Name: Estimated Hours Closed, dtype: int64\n",
      "1    29\n",
      "2    19\n",
      "3     8\n",
      "Name: Estimated Hours Closed, dtype: int64\n"
     ]
    },
    {
     "data": {
      "text/plain": [
       "<matplotlib.axes._subplots.AxesSubplot at 0x1a1cf88ac8>"
      ]
     },
     "execution_count": 143,
     "metadata": {},
     "output_type": "execute_result"
    },
    {
     "data": {
      "image/png": "[encoded data removed]",
      "text/plain": [
       "<Figure size 432x288 with 1 Axes>"
      ]
     },
     "metadata": {
      "needs_background": "light"
     },
     "output_type": "display_data"
    }
   ],
   "source": [
    "## Practice with a new series\n",
    "#person_count = crashes['Person Count']\n",
    "#person_count.describe()\n",
    "#person_count.hist()\n",
    "\n",
    "\n",
    "\"\"\"\n",
    "What happened here?\n",
    "Estimate Hours Closed contains many entries (43) that have no value.\n",
    "In order to clean this up we need to remove the white space from the\n",
    "count as it's causing a problem. To do that we'll invoke a lambda\n",
    "on the series to iterate over each row, and with loc[] we return\n",
    "all values that match the logic i.e. that are not whitespaces\n",
    "\n",
    "\n",
    "Plotting the clean hours looks much better now since we are\n",
    "ignoring empty/non-existant values.\n",
    "\"\"\"\n",
    "old_hours = crashes['Estimated Hours Closed'].value_counts()\n",
    "print(old_hours)\n",
    "\n",
    "\n",
    "new_hours = crashes.loc[lambda crashes:\n",
    "                              crashes['Estimated Hours Closed']!=' ']\n",
    "\n",
    "clean_hours = new_hours['Estimated Hours Closed'].value_counts()\n",
    "print(clean_hours)\n",
    "\n",
    "clean_hours.plot(kind='barh')\n"
   ]
  },
  {
   "cell_type": "code",
   "execution_count": 80,
   "metadata": {},
   "outputs": [
    {
     "name": "stdout",
     "output_type": "stream",
     "text": [
      "<class 'numpy.ndarray'>\n"
     ]
    },
    {
     "data": {
      "image/png": "[encoded data removed]",
      "text/plain": [
       "<Figure size 432x288 with 1 Axes>"
      ]
     },
     "metadata": {
      "needs_background": "light"
     },
     "output_type": "display_data"
    }
   ],
   "source": [
    "## Here we're slicing the dataframe into a subset by\n",
    "## the series (column) names\n",
    "\n",
    "subset_dataframe = clean_crashes.loc[:, 'Crash Record Number':'Total Unit Count']\n",
    "#print(subset_dataframe.dtypes)\n",
    "\n",
    "subset_dataframe.head()\n",
    "\n",
    "## Let's take a look at the counts of crashed by\n",
    "## intersection type (counts by unique values)\n",
    "## Remember this goes from dataframe down to a series\n",
    "## This is an example (albeit a small one) of method chaining\n",
    "subset_dataframe['Intersection Type'].value_counts().plot(kind='barh')\n",
    "\n",
    "## Working to pull underlying data so that we can pass it to\n",
    "## matplotlib for more hardcore plotting\n",
    "value_count = subset_dataframe['Intersection Type'].value_counts()\n",
    "\n",
    "## using the .values method to extract the numpy.ndarrah from the Series\n",
    "raw_array = value_count.values\n",
    "print(type(raw_array))\n",
    "\n",
    "\n",
    "\n"
   ]
  },
  {
   "cell_type": "code",
   "execution_count": null,
   "metadata": {},
   "outputs": [],
   "source": []
  }
 ],
 "metadata": {
  "kernelspec": {
   "display_name": "Python 3",
   "language": "python",
   "name": "python3"
  },
  "language_info": {
   "codemirror_mode": {
    "name": "ipython",
    "version": 3
   },
   "file_extension": ".py",
   "mimetype": "text/x-python",
   "name": "python",
   "nbconvert_exporter": "python",
   "pygments_lexer": "ipython3",
   "version": "3.7.3"
  }
 },
 "nbformat": 4,
 "nbformat_minor": 4
}
